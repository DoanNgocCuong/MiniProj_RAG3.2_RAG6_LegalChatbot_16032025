{
 "cells": [
  {
   "cell_type": "markdown",
   "metadata": {},
   "source": [
    "# Step 1. Cursor Compose - Đóng Dockerfile và docker-compose.yml cho source frontend cũ để deploy port 30001"
   ]
  },
  {
   "cell_type": "markdown",
   "metadata": {},
   "source": [
    "QDant Free trước để upload Vector Database lên. \n",
    "```bash\n",
    "1 NODE\n",
    "DISK: 4GiB\n",
    "RAM: 1GiB\n",
    "vCPUs: 0.5\n",
    "```"
   ]
  }
 ],
 "metadata": {
  "language_info": {
   "name": "python"
  }
 },
 "nbformat": 4,
 "nbformat_minor": 2
}
